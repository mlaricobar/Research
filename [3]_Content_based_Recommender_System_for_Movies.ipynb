{
  "nbformat": 4,
  "nbformat_minor": 0,
  "metadata": {
    "colab": {
      "name": "[3] Content-based Recommender System for Movies.ipynb",
      "version": "0.3.2",
      "provenance": [],
      "collapsed_sections": [],
      "include_colab_link": true
    },
    "kernelspec": {
      "name": "python3",
      "display_name": "Python 3"
    }
  },
  "cells": [
    {
      "cell_type": "markdown",
      "metadata": {
        "id": "view-in-github",
        "colab_type": "text"
      },
      "source": [
        "<a href=\"https://colab.research.google.com/github/mlaricobar/Research/blob/master/%5B3%5D_Content_based_Recommender_System_for_Movies.ipynb\" target=\"_parent\"><img src=\"https://colab.research.google.com/assets/colab-badge.svg\" alt=\"Open In Colab\"/></a>"
      ]
    },
    {
      "metadata": {
        "id": "VwTLBPJOMQml",
        "colab_type": "text"
      },
      "cell_type": "markdown",
      "source": [
        "##### Importar Librerías"
      ]
    },
    {
      "metadata": {
        "id": "QAtQNOZ-Q5QX",
        "colab_type": "code",
        "outputId": "48221ab6-54df-44ac-92bc-029ba9c859c5",
        "colab": {
          "base_uri": "https://localhost:8080/",
          "height": 70
        }
      },
      "cell_type": "code",
      "source": [
        "!pip install rake-nltk"
      ],
      "execution_count": 20,
      "outputs": [
        {
          "output_type": "stream",
          "text": [
            "Requirement already satisfied: rake-nltk in /usr/local/lib/python3.6/dist-packages (1.0.4)\n",
            "Requirement already satisfied: nltk in /usr/local/lib/python3.6/dist-packages (from rake-nltk) (3.2.5)\n",
            "Requirement already satisfied: six in /usr/local/lib/python3.6/dist-packages (from nltk->rake-nltk) (1.11.0)\n"
          ],
          "name": "stdout"
        }
      ]
    },
    {
      "metadata": {
        "id": "WQl6GpTuMWQh",
        "colab_type": "text"
      },
      "cell_type": "markdown",
      "source": [
        "#### Construcción del Modelo de Recomendación Basado en Contenido"
      ]
    },
    {
      "metadata": {
        "id": "ChnwgS1JQmxg",
        "colab_type": "code",
        "colab": {}
      },
      "cell_type": "code",
      "source": [
        "import numpy as np\n",
        "import pandas as pd\n",
        "\n",
        "from rake_nltk import Rake\n",
        "\n",
        "from sklearn.metrics.pairwise import cosine_similarity\n",
        "from sklearn.feature_extraction.text import CountVectorizer"
      ],
      "execution_count": 0,
      "outputs": []
    },
    {
      "metadata": {
        "id": "uIpgYdLAQqYu",
        "colab_type": "code",
        "outputId": "bbc64096-75e8-49f5-a0fe-ba4c36688257",
        "colab": {
          "base_uri": "https://localhost:8080/",
          "height": 197
        }
      },
      "cell_type": "code",
      "source": [
        "# Lectura de la base de Películas\n",
        "df = pd.read_csv('https://query.data.world/s/uikepcpffyo2nhig52xxeevdialfl7')\n",
        "\n",
        "df = df[['Title','Genre','Director','Actors','Plot']]\n",
        "df.head()"
      ],
      "execution_count": 22,
      "outputs": [
        {
          "output_type": "execute_result",
          "data": {
            "text/html": [
              "<div>\n",
              "<style scoped>\n",
              "    .dataframe tbody tr th:only-of-type {\n",
              "        vertical-align: middle;\n",
              "    }\n",
              "\n",
              "    .dataframe tbody tr th {\n",
              "        vertical-align: top;\n",
              "    }\n",
              "\n",
              "    .dataframe thead th {\n",
              "        text-align: right;\n",
              "    }\n",
              "</style>\n",
              "<table border=\"1\" class=\"dataframe\">\n",
              "  <thead>\n",
              "    <tr style=\"text-align: right;\">\n",
              "      <th></th>\n",
              "      <th>Title</th>\n",
              "      <th>Genre</th>\n",
              "      <th>Director</th>\n",
              "      <th>Actors</th>\n",
              "      <th>Plot</th>\n",
              "    </tr>\n",
              "  </thead>\n",
              "  <tbody>\n",
              "    <tr>\n",
              "      <th>0</th>\n",
              "      <td>The Shawshank Redemption</td>\n",
              "      <td>Crime, Drama</td>\n",
              "      <td>Frank Darabont</td>\n",
              "      <td>Tim Robbins, Morgan Freeman, Bob Gunton, Willi...</td>\n",
              "      <td>Two imprisoned men bond over a number of years...</td>\n",
              "    </tr>\n",
              "    <tr>\n",
              "      <th>1</th>\n",
              "      <td>The Godfather</td>\n",
              "      <td>Crime, Drama</td>\n",
              "      <td>Francis Ford Coppola</td>\n",
              "      <td>Marlon Brando, Al Pacino, James Caan, Richard ...</td>\n",
              "      <td>The aging patriarch of an organized crime dyna...</td>\n",
              "    </tr>\n",
              "    <tr>\n",
              "      <th>2</th>\n",
              "      <td>The Godfather: Part II</td>\n",
              "      <td>Crime, Drama</td>\n",
              "      <td>Francis Ford Coppola</td>\n",
              "      <td>Al Pacino, Robert Duvall, Diane Keaton, Robert...</td>\n",
              "      <td>The early life and career of Vito Corleone in ...</td>\n",
              "    </tr>\n",
              "    <tr>\n",
              "      <th>3</th>\n",
              "      <td>The Dark Knight</td>\n",
              "      <td>Action, Crime, Drama</td>\n",
              "      <td>Christopher Nolan</td>\n",
              "      <td>Christian Bale, Heath Ledger, Aaron Eckhart, M...</td>\n",
              "      <td>When the menace known as the Joker emerges fro...</td>\n",
              "    </tr>\n",
              "    <tr>\n",
              "      <th>4</th>\n",
              "      <td>12 Angry Men</td>\n",
              "      <td>Crime, Drama</td>\n",
              "      <td>Sidney Lumet</td>\n",
              "      <td>Martin Balsam, John Fiedler, Lee J. Cobb, E.G....</td>\n",
              "      <td>A jury holdout attempts to prevent a miscarria...</td>\n",
              "    </tr>\n",
              "  </tbody>\n",
              "</table>\n",
              "</div>"
            ],
            "text/plain": [
              "                      Title                 Genre              Director  \\\n",
              "0  The Shawshank Redemption          Crime, Drama        Frank Darabont   \n",
              "1             The Godfather          Crime, Drama  Francis Ford Coppola   \n",
              "2    The Godfather: Part II          Crime, Drama  Francis Ford Coppola   \n",
              "3           The Dark Knight  Action, Crime, Drama     Christopher Nolan   \n",
              "4              12 Angry Men          Crime, Drama          Sidney Lumet   \n",
              "\n",
              "                                              Actors  \\\n",
              "0  Tim Robbins, Morgan Freeman, Bob Gunton, Willi...   \n",
              "1  Marlon Brando, Al Pacino, James Caan, Richard ...   \n",
              "2  Al Pacino, Robert Duvall, Diane Keaton, Robert...   \n",
              "3  Christian Bale, Heath Ledger, Aaron Eckhart, M...   \n",
              "4  Martin Balsam, John Fiedler, Lee J. Cobb, E.G....   \n",
              "\n",
              "                                                Plot  \n",
              "0  Two imprisoned men bond over a number of years...  \n",
              "1  The aging patriarch of an organized crime dyna...  \n",
              "2  The early life and career of Vito Corleone in ...  \n",
              "3  When the menace known as the Joker emerges fro...  \n",
              "4  A jury holdout attempts to prevent a miscarria...  "
            ]
          },
          "metadata": {
            "tags": []
          },
          "execution_count": 22
        }
      ]
    },
    {
      "metadata": {
        "id": "0mIVBdpWKttb",
        "colab_type": "code",
        "colab": {
          "base_uri": "https://localhost:8080/",
          "height": 34
        },
        "outputId": "bdc64f6e-9f51-481b-d3cf-d24ad7fa79c4"
      },
      "cell_type": "code",
      "source": [
        "print(\"Existen {0} ítems a recomendar\".format(df.shape[0]))"
      ],
      "execution_count": 23,
      "outputs": [
        {
          "output_type": "stream",
          "text": [
            "Existen 250 ítems a recomendar\n"
          ],
          "name": "stdout"
        }
      ]
    },
    {
      "metadata": {
        "id": "doU3FjDNNCYP",
        "colab_type": "code",
        "colab": {}
      },
      "cell_type": "code",
      "source": [
        "# discarding the commas between the actors' full names and getting only the first three names\n",
        "df['Actors'] = df['Actors'].map(lambda x: [e.lower().replace(' ', '') for e in x.split(',')[:3]])\n",
        "\n",
        "# putting the genres in a list of words\n",
        "df['Genre'] = df['Genre'].map(lambda x: x.lower().split(','))\n",
        "\n",
        "df['Director'] = df['Director'].map(lambda x: ''.join(x.split(' ')).lower())"
      ],
      "execution_count": 0,
      "outputs": []
    },
    {
      "metadata": {
        "id": "sLizdNyPMiqW",
        "colab_type": "code",
        "colab": {}
      },
      "cell_type": "code",
      "source": [
        "def get_keywords(plot):\n",
        "  ### \n",
        "  r = Rake()\n",
        "  r.extract_keywords_from_text(plot)\n",
        "  key_words_dict_scores = r.get_word_degrees()\n",
        "  return list(key_words_dict_scores.keys())"
      ],
      "execution_count": 0,
      "outputs": []
    },
    {
      "metadata": {
        "id": "gBZTvrlaMfIx",
        "colab_type": "code",
        "colab": {}
      },
      "cell_type": "code",
      "source": [
        "df['Key_words'] = df['Plot'].apply(get_keywords)\n",
        "df.drop(columns = ['Plot'], inplace = True)"
      ],
      "execution_count": 0,
      "outputs": []
    },
    {
      "metadata": {
        "id": "EpunP-Yyzsym",
        "colab_type": "code",
        "colab": {
          "base_uri": "https://localhost:8080/",
          "height": 327
        },
        "outputId": "8973e991-b8b1-42e2-c3dd-26cf9a7663e9"
      },
      "cell_type": "code",
      "source": [
        "df.set_index('Title', inplace = True)\n",
        "df.head()"
      ],
      "execution_count": 29,
      "outputs": [
        {
          "output_type": "execute_result",
          "data": {
            "text/html": [
              "<div>\n",
              "<style scoped>\n",
              "    .dataframe tbody tr th:only-of-type {\n",
              "        vertical-align: middle;\n",
              "    }\n",
              "\n",
              "    .dataframe tbody tr th {\n",
              "        vertical-align: top;\n",
              "    }\n",
              "\n",
              "    .dataframe thead th {\n",
              "        text-align: right;\n",
              "    }\n",
              "</style>\n",
              "<table border=\"1\" class=\"dataframe\">\n",
              "  <thead>\n",
              "    <tr style=\"text-align: right;\">\n",
              "      <th></th>\n",
              "      <th>Genre</th>\n",
              "      <th>Director</th>\n",
              "      <th>Actors</th>\n",
              "      <th>Key_words</th>\n",
              "    </tr>\n",
              "    <tr>\n",
              "      <th>Title</th>\n",
              "      <th></th>\n",
              "      <th></th>\n",
              "      <th></th>\n",
              "      <th></th>\n",
              "    </tr>\n",
              "  </thead>\n",
              "  <tbody>\n",
              "    <tr>\n",
              "      <th>The Shawshank Redemption</th>\n",
              "      <td>[crime,  drama]</td>\n",
              "      <td>frankdarabont</td>\n",
              "      <td>[timrobbins, morganfreeman, bobgunton]</td>\n",
              "      <td>[common, decency, years, finding, solace, two,...</td>\n",
              "    </tr>\n",
              "    <tr>\n",
              "      <th>The Godfather</th>\n",
              "      <td>[crime,  drama]</td>\n",
              "      <td>francisfordcoppola</td>\n",
              "      <td>[marlonbrando, alpacino, jamescaan]</td>\n",
              "      <td>[aging, patriarch, organized, crime, dynasty, ...</td>\n",
              "    </tr>\n",
              "    <tr>\n",
              "      <th>The Godfather: Part II</th>\n",
              "      <td>[crime,  drama]</td>\n",
              "      <td>francisfordcoppola</td>\n",
              "      <td>[alpacino, robertduvall, dianekeaton]</td>\n",
              "      <td>[tightens, 1920s, new, york, son, career, grip...</td>\n",
              "    </tr>\n",
              "    <tr>\n",
              "      <th>The Dark Knight</th>\n",
              "      <td>[action,  crime,  drama]</td>\n",
              "      <td>christophernolan</td>\n",
              "      <td>[christianbale, heathledger, aaroneckhart]</td>\n",
              "      <td>[mysterious, past, people, gotham, dark, knigh...</td>\n",
              "    </tr>\n",
              "    <tr>\n",
              "      <th>12 Angry Men</th>\n",
              "      <td>[crime,  drama]</td>\n",
              "      <td>sidneylumet</td>\n",
              "      <td>[martinbalsam, johnfiedler, leej.cobb]</td>\n",
              "      <td>[forcing, reconsider, evidence, justice, jury,...</td>\n",
              "    </tr>\n",
              "  </tbody>\n",
              "</table>\n",
              "</div>"
            ],
            "text/plain": [
              "                                             Genre            Director  \\\n",
              "Title                                                                    \n",
              "The Shawshank Redemption           [crime,  drama]       frankdarabont   \n",
              "The Godfather                      [crime,  drama]  francisfordcoppola   \n",
              "The Godfather: Part II             [crime,  drama]  francisfordcoppola   \n",
              "The Dark Knight           [action,  crime,  drama]    christophernolan   \n",
              "12 Angry Men                       [crime,  drama]         sidneylumet   \n",
              "\n",
              "                                                              Actors  \\\n",
              "Title                                                                  \n",
              "The Shawshank Redemption      [timrobbins, morganfreeman, bobgunton]   \n",
              "The Godfather                    [marlonbrando, alpacino, jamescaan]   \n",
              "The Godfather: Part II         [alpacino, robertduvall, dianekeaton]   \n",
              "The Dark Knight           [christianbale, heathledger, aaroneckhart]   \n",
              "12 Angry Men                  [martinbalsam, johnfiedler, leej.cobb]   \n",
              "\n",
              "                                                                  Key_words  \n",
              "Title                                                                        \n",
              "The Shawshank Redemption  [common, decency, years, finding, solace, two,...  \n",
              "The Godfather             [aging, patriarch, organized, crime, dynasty, ...  \n",
              "The Godfather: Part II    [tightens, 1920s, new, york, son, career, grip...  \n",
              "The Dark Knight           [mysterious, past, people, gotham, dark, knigh...  \n",
              "12 Angry Men              [forcing, reconsider, evidence, justice, jury,...  "
            ]
          },
          "metadata": {
            "tags": []
          },
          "execution_count": 29
        }
      ]
    },
    {
      "metadata": {
        "id": "7_gn5UoWz1OW",
        "colab_type": "code",
        "colab": {}
      },
      "cell_type": "code",
      "source": [
        "columns = df.columns\n",
        "def get_bag_of_words(row):\n",
        "  words = ''\n",
        "  global columns\n",
        "  for col in columns:\n",
        "    if col != 'Director':\n",
        "      words = words + ' '.join(row[col])+ ' '\n",
        "    else:\n",
        "      words = words + row[col]+ ' '\n",
        "  \n",
        "  return words"
      ],
      "execution_count": 0,
      "outputs": []
    },
    {
      "metadata": {
        "id": "agbLdEdY0g0I",
        "colab_type": "code",
        "colab": {}
      },
      "cell_type": "code",
      "source": [
        "df[\"bag_of_words\"] = df.apply(get_bag_of_words, axis=1)\n",
        "df.drop(columns = [col for col in df.columns if col!= 'bag_of_words'], inplace = True)"
      ],
      "execution_count": 0,
      "outputs": []
    },
    {
      "metadata": {
        "id": "Ow5tpScQ0tOT",
        "colab_type": "code",
        "colab": {
          "base_uri": "https://localhost:8080/",
          "height": 227
        },
        "outputId": "7fb033e9-4dc4-4e70-bc0d-dbe3d24be0de"
      },
      "cell_type": "code",
      "source": [
        "df.head()"
      ],
      "execution_count": 32,
      "outputs": [
        {
          "output_type": "execute_result",
          "data": {
            "text/html": [
              "<div>\n",
              "<style scoped>\n",
              "    .dataframe tbody tr th:only-of-type {\n",
              "        vertical-align: middle;\n",
              "    }\n",
              "\n",
              "    .dataframe tbody tr th {\n",
              "        vertical-align: top;\n",
              "    }\n",
              "\n",
              "    .dataframe thead th {\n",
              "        text-align: right;\n",
              "    }\n",
              "</style>\n",
              "<table border=\"1\" class=\"dataframe\">\n",
              "  <thead>\n",
              "    <tr style=\"text-align: right;\">\n",
              "      <th></th>\n",
              "      <th>bag_of_words</th>\n",
              "    </tr>\n",
              "    <tr>\n",
              "      <th>Title</th>\n",
              "      <th></th>\n",
              "    </tr>\n",
              "  </thead>\n",
              "  <tbody>\n",
              "    <tr>\n",
              "      <th>The Shawshank Redemption</th>\n",
              "      <td>crime  drama frankdarabont timrobbins morganfr...</td>\n",
              "    </tr>\n",
              "    <tr>\n",
              "      <th>The Godfather</th>\n",
              "      <td>crime  drama francisfordcoppola marlonbrando a...</td>\n",
              "    </tr>\n",
              "    <tr>\n",
              "      <th>The Godfather: Part II</th>\n",
              "      <td>crime  drama francisfordcoppola alpacino rober...</td>\n",
              "    </tr>\n",
              "    <tr>\n",
              "      <th>The Dark Knight</th>\n",
              "      <td>action  crime  drama christophernolan christia...</td>\n",
              "    </tr>\n",
              "    <tr>\n",
              "      <th>12 Angry Men</th>\n",
              "      <td>crime  drama sidneylumet martinbalsam johnfied...</td>\n",
              "    </tr>\n",
              "  </tbody>\n",
              "</table>\n",
              "</div>"
            ],
            "text/plain": [
              "                                                               bag_of_words\n",
              "Title                                                                      \n",
              "The Shawshank Redemption  crime  drama frankdarabont timrobbins morganfr...\n",
              "The Godfather             crime  drama francisfordcoppola marlonbrando a...\n",
              "The Godfather: Part II    crime  drama francisfordcoppola alpacino rober...\n",
              "The Dark Knight           action  crime  drama christophernolan christia...\n",
              "12 Angry Men              crime  drama sidneylumet martinbalsam johnfied..."
            ]
          },
          "metadata": {
            "tags": []
          },
          "execution_count": 32
        }
      ]
    },
    {
      "metadata": {
        "id": "6Z9i_ZNSTnmp",
        "colab_type": "code",
        "outputId": "133cd81f-589d-4a6f-c719-a8f00ae180c6",
        "colab": {
          "base_uri": "https://localhost:8080/",
          "height": 123
        }
      },
      "cell_type": "code",
      "source": [
        "# instantiating and generating the count matrix\n",
        "count = CountVectorizer()\n",
        "count_matrix = count.fit_transform(df['bag_of_words'])\n",
        "\n",
        "\n",
        "# creating a Series for the movie titles so they are associated to an ordered numerical\n",
        "# list I will use later to match the indexes\n",
        "indices = pd.Series(df.index)\n",
        "indices[:5]"
      ],
      "execution_count": 33,
      "outputs": [
        {
          "output_type": "execute_result",
          "data": {
            "text/plain": [
              "0    The Shawshank Redemption\n",
              "1               The Godfather\n",
              "2      The Godfather: Part II\n",
              "3             The Dark Knight\n",
              "4                12 Angry Men\n",
              "Name: Title, dtype: object"
            ]
          },
          "metadata": {
            "tags": []
          },
          "execution_count": 33
        }
      ]
    },
    {
      "metadata": {
        "id": "ryr3sFPKUBoj",
        "colab_type": "code",
        "colab": {
          "base_uri": "https://localhost:8080/",
          "height": 247
        },
        "outputId": "98c62ec3-3462-4acc-c44c-d1716284fb08"
      },
      "cell_type": "code",
      "source": [
        "# generating the cosine similarity matrix\n",
        "cosine_sim = cosine_similarity(count_matrix, count_matrix)\n",
        "cosine_sim"
      ],
      "execution_count": 34,
      "outputs": [
        {
          "output_type": "execute_result",
          "data": {
            "text/plain": [
              "array([[1.        , 0.15789474, 0.13764944, ..., 0.05263158, 0.05263158,\n",
              "        0.05564149],\n",
              "       [0.15789474, 1.        , 0.36706517, ..., 0.05263158, 0.05263158,\n",
              "        0.05564149],\n",
              "       [0.13764944, 0.36706517, 1.        , ..., 0.04588315, 0.04588315,\n",
              "        0.04850713],\n",
              "       ...,\n",
              "       [0.05263158, 0.05263158, 0.04588315, ..., 1.        , 0.05263158,\n",
              "        0.05564149],\n",
              "       [0.05263158, 0.05263158, 0.04588315, ..., 0.05263158, 1.        ,\n",
              "        0.05564149],\n",
              "       [0.05564149, 0.05564149, 0.04850713, ..., 0.05564149, 0.05564149,\n",
              "        1.        ]])"
            ]
          },
          "metadata": {
            "tags": []
          },
          "execution_count": 34
        }
      ]
    },
    {
      "metadata": {
        "id": "IUhQddMP02xm",
        "colab_type": "code",
        "colab": {}
      },
      "cell_type": "code",
      "source": [
        "# function that takes in movie title as input and returns the top 10 recommended movies\n",
        "def recommendations(title, cosine_sim = cosine_sim):\n",
        "    \n",
        "    recommended_movies = []\n",
        "    \n",
        "    # gettin the index of the movie that matches the title\n",
        "    idx = indices[indices == title].index[0]\n",
        "\n",
        "    # creating a Series with the similarity scores in descending order\n",
        "    score_series = pd.Series(cosine_sim[idx]).sort_values(ascending = False)\n",
        "\n",
        "    # getting the indexes of the 10 most similar movies\n",
        "    top_10_indexes = list(score_series.iloc[1:11].index)\n",
        "    \n",
        "    # populating the list with the titles of the best 10 matching movies\n",
        "    for i in top_10_indexes:\n",
        "        recommended_movies.append(list(df.index)[i])\n",
        "        \n",
        "    return recommended_movies"
      ],
      "execution_count": 0,
      "outputs": []
    },
    {
      "metadata": {
        "id": "Ps2CgASl1LNm",
        "colab_type": "code",
        "colab": {
          "base_uri": "https://localhost:8080/",
          "height": 194
        },
        "outputId": "5073b1df-4bff-4d97-ccd6-591d6c3a9f96"
      },
      "cell_type": "code",
      "source": [
        "recommendations('Fargo')"
      ],
      "execution_count": 36,
      "outputs": [
        {
          "output_type": "execute_result",
          "data": {
            "text/plain": [
              "['No Country for Old Men',\n",
              " 'The Departed',\n",
              " 'Rope',\n",
              " 'The Godfather',\n",
              " 'Reservoir Dogs',\n",
              " 'The Godfather: Part II',\n",
              " 'On the Waterfront',\n",
              " 'Goodfellas',\n",
              " 'Arsenic and Old Lace',\n",
              " 'The Big Lebowski']"
            ]
          },
          "metadata": {
            "tags": []
          },
          "execution_count": 36
        }
      ]
    },
    {
      "metadata": {
        "id": "GS08EQKt1Msy",
        "colab_type": "code",
        "colab": {}
      },
      "cell_type": "code",
      "source": [
        ""
      ],
      "execution_count": 0,
      "outputs": []
    }
  ]
}